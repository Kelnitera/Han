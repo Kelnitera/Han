{
  "cells": [
    {
      "cell_type": "code",
      "execution_count": null,
      "metadata": {
        "id": "-aH8PiHV96-E"
      },
      "outputs": [],
      "source": [
        "import tensorflow as tf\n",
        "\n",
        "import shutil, random"
      ]
    },
    {
      "cell_type": "code",
      "execution_count": null,
      "metadata": {
        "id": "CNztvGslBmZW"
      },
      "outputs": [],
      "source": [
        "import os\n",
        "\n",
        "def null_file(root):\n",
        "  total = 0\n",
        "  for i in os.listdir(root):\n",
        "    filepath = os.path.join(root, i)\n",
        "    if os.path.getsize(filepath) == 0:\n",
        "      total += 1; os.remove(filepath)\n",
        "  result = f\"{total} File in 0 Bytes\"\n",
        "  return total\n",
        "\n",
        "def corrupted_image(root):\n",
        "  total = 0\n",
        "  for i in os.listdir(root):\n",
        "    filepath = os.path.join(root, i)\n",
        "  try:\n",
        "    file_object = open(filepath, \"rb\")\n",
        "    data_object = tf.compat.as_bytes(\"JFIF\") in file_object.peek(10)\n",
        "  finally:\n",
        "    file_object.close()\n",
        "  if not data_object:\n",
        "    total += 1\n",
        "    os.remove(filepath)\n",
        "  result = f\"Total Corrupted : {total}\"\n",
        "  return total"
      ]
    }
  ],
  "metadata": {
    "colab": {
      "provenance": []
    },
    "kernelspec": {
      "display_name": "Python 3",
      "name": "python3"
    },
    "language_info": {
      "name": "python"
    }
  },
  "nbformat": 4,
  "nbformat_minor": 0
}
