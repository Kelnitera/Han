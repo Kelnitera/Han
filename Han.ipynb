{
  "nbformat": 4,
  "nbformat_minor": 0,
  "metadata": {
    "colab": {
      "provenance": []
    },
    "kernelspec": {
      "name": "python3",
      "display_name": "Python 3"
    },
    "language_info": {
      "name": "python"
    }
  },
  "cells": [
    {
      "cell_type": "code",
      "source": [
        "import tensorflow as tf\n",
        "\n",
        "import shutil, random"
      ],
      "metadata": {
        "id": "-aH8PiHV96-E"
      },
      "execution_count": null,
      "outputs": []
    },
    {
      "cell_type": "code",
      "source": [
        "import os\n",
        "\n",
        "def null_file(root):\n",
        "  total = 0\n",
        "  for i in os.listdir(root):\n",
        "    filepath = os.path.join(root, i)\n",
        "    if os.path.getsize(filepath) == 0:\n",
        "      total += 1; os.remove(filepath)\n",
        "  result = f\"{total} File in 0 Bytes\"\n",
        "  return total\n",
        "\n",
        "def corrupted_image(root):\n",
        "  total = 0\n",
        "  for i in os.listdir(root):\n",
        "    filepath = os.path.join(root, i)\n",
        "  try:\n",
        "    file_object = open(filepath, \"rb\")\n",
        "    data_object = tf.compat.as_bytes(\"JFIF\") in file_object.peek(10)\n",
        "  finally:\n",
        "    file_object.close()\n",
        "  if not data_object:\n",
        "    total += 1\n",
        "    os.remove(filepath)\n",
        "  result = f\"Total Corrupted : {total}\"\n",
        "  return total"
      ],
      "metadata": {
        "id": "CNztvGslBmZW"
      },
      "execution_count": null,
      "outputs": []
    },
    {
      "cell_type": "code",
      "source": [
        "def train_test_split(filepath, train, testi, train_split):\n",
        "  return {\"train\":train_total, \"testi\":testi_total}\n",
        "\n",
        "def logits_image(image):\n",
        "  logits = model.predict(image)\n",
        "  return logits"
      ],
      "metadata": {
        "id": "TYIcDsi3DfPv"
      },
      "execution_count": null,
      "outputs": []
    }
  ]
}